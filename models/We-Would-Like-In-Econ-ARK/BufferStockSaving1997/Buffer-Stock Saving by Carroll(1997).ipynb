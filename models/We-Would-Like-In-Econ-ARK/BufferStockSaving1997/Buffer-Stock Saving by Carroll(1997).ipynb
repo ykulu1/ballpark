{
 "cells": [
  {
   "cell_type": "markdown",
   "metadata": {},
   "source": [
    "# [\"Buffer-Stock Saving and the Life Cycle/Permanent Income Hypothesis](https://www.jstor.org/stable/2951275?seq=1#page_scan_tab_contents)\"\n",
    "\n",
    "- Notebook is prepared by Yusuf Suha Kulu and Jeongwon (John) Son"
   ]
  },
  {
   "cell_type": "markdown",
   "metadata": {},
   "source": [
    "### Summary\n",
    "\n",
    "This paper argues that the saving behaviour of a household is better described by the buffer stock version of the Life Cycle/Permanent Income Hypothesis (LC/PIH) than the traditional version of it. Buffer Stock Consumers set average consumption growth equal to average labor income growth, regardless of tastes. The buffer stock model predicts a higher marginal propensity to consume (MPC) out of transitory income, higher effective discount rate for future labor income, and a positive sign for the correlation between saving and expected labor income growth.\n",
    "\n",
    "The finite horizon version of the model presented in the paper explains three emprical puzzles.\n",
    "\n",
    "1. __Consumption/income parallel :__  Aggregate consumption parallels growth in income over periods of more than a few years.\n",
    "2. __Consumption/income divergence :__ For individual households, consumption is far from current income. This implies the consumption/income parallel does not arise at the household level.\n",
    "3. __Stability of the household age/wealth profile :__ The effects of the productivity growth slowdown after 1973 on the age/median-wealth profile and the extraordinarily high volatility of the household liquid wealth are explained. \n"
   ]
  },
  {
   "cell_type": "markdown",
   "metadata": {},
   "source": [
    "### Comparison to Previous Work\n",
    "\n",
    "#### Deaton [1991] : Infinite Horizon Model\n",
    "* Unable to simultaneously incorporate both transitory and permanent shocks to income\n",
    "* Explicit liquidity constraints are imposed\n",
    "* Euler Equation is violated whenever the liquidity constraints are binding. \n",
    "\n",
    "\n",
    "#### Zeldes [1989a] : Finite Horizon Model\n",
    "* Consumers are assumed to be more patient.\n",
    "* No examination of the infinite horizon version of the model.\n",
    "* The model is not calibrated explicity by using panel data on household income from the PSID.\n",
    "\n",
    "However, the combination of the assumption that income can go to zero in each period with the assumption of non zero consumption is sufficient to guarantee that consumers will never borrow. Very similar household behaviour emerges from Deaton and this paper.\n",
    "\n",
    "The traditional model is the following:\n",
    "\n",
    "Finite Horizon  \n",
    "\n",
    "$$C_t = k_t[X_t + H_t]$$ \n",
    "$$H_t = \\sum_{i=t+1}^{T}R^{i-t}Y_{i} $$\n",
    "$$k_t = \\frac{(1 - {[R^{-1}(\\beta R)^{1/\\rho}]})}{(1 - {[R^{-1}(\\beta R)^{1/\\rho}]}^{T-t+1})}$$\n",
    "\n",
    "\n",
    "\n",
    "Infinite Horizon \n",
    "\n",
    "$$C_t = k_t[X_t + H_t] $$\n",
    "$$H_t = \\sum_{i=t+1}^{\\infty}R^{i-t}Y_{i} \\approx \\frac{Y_t}{r - g} $$\n",
    "$$k = {(1 - {[R^{-1}(\\beta R)^{1/\\rho}]})}$$"
   ]
  },
  {
   "cell_type": "markdown",
   "metadata": {},
   "source": [
    "### Resolving Three Emprical Puzzles\n",
    "\n",
    "<center><img src=\"Table3.jpg\" height=\"400\" /></center>\n",
    "\n",
    "#### 1) The Consumption/Income Parallel in Low Frequency Data\n",
    "\n",
    "Consumption growth and income growth are very closely linked over periods of a few years or longer.\n",
    "\n",
    "Three age/income profiles calibrated using the data for Unskilled Laborers, Operatives, and Managers.\n",
    "1. For Unskilled Labor,labor income grows at 3% annually from ages 25 to 40, and is flat from age 40 to retirement at 65.\n",
    "2. For Operatives, labor income grows at 2.5% annually from the age 25 to 50, then 1% per year until retirement.\n",
    "3. For Managers, income grows at 3% from ages 25 to 55, and declines at 1% per year from 55 to 65.\n",
    "\n",
    "Post-retirement income is assumed to equal 70 percent income in the last year of the working life, for all three groups. \n",
    "\n",
    "<img src=\"Figure5.jpg\" height=\"500\" />\n",
    "\n",
    "Results show the paralell until the age of 45 or 50. Then retirement savings allow income profile to rise above the consumption profile in the years immediately before the retirement.\n",
    "\n",
    "#### 2) The Consumption/Income Divergence in High Frequency Data\n",
    "\n",
    "The Buffer-Stock model has no difficulty generating an MPC large enough to match emprical estimates, while the standard LC/PIH model is simply incapable of implying large values for the MPC out of transitory income. \n",
    "\n",
    "#### 3) The Behaviour of Wealth over the Lifetime\n",
    "\n",
    "Median ratio of wealth(financial assets) to income(annual income) is between 2 and 35 percent at all ages before the retirement. This fact is stable over the early 1960s and the late 1980s but there was a sharp slowdown(post-1973) in the productivity growth within this period. \n",
    "\n",
    "The productivity growth slowdown is assumed to result in a 1 percent slower growth rate of labor income over the working labor income. \n",
    "\n",
    "This fact is not explained by the standard LC/PIH model as the lower growth induce an enourmous increase in household wealth at all ages greater than 30. On average, the slower curve is higher than the faster curve by an amount equal to roughly two years' worth of income. Thus, the model predicts enourmous increase in household wealth/income ratios due to the productivity slowdown. \n",
    "\n",
    "The results for the same experiment with the buffer-stock model are shown below;\n",
    "\n",
    "<center><img src=\"Figure7.jpg\" height=\"500\" /></center>\n",
    "\n",
    "The difference between the two productivity growth scenarios is not remotely so dramatic as in the standard model. \n"
   ]
  },
  {
   "cell_type": "markdown",
   "metadata": {},
   "source": [
    "### Conclusion \n",
    "\n",
    "This paper argues that a version of the LC/PIH model is closer both to the behaviour of the typical household and to Friedman's original conception of the Permanent Income Hypothesis model. The buffer-stock version of the model can explain why consumption tracks income closely when aggregated by groups or in whole economies, but is often sharply different from income at the level of individual households. The model is consistent having higher MPC out of transitory income without imposing liquidity constraints. Further, it provides an explanation for why median household wealth/income ratios have remained roughly stable despite a sharp slowdown in expected income growth. "
   ]
  }
 ],
 "metadata": {
  "kernelspec": {
   "display_name": "Python 3",
   "language": "python",
   "name": "python3"
  },
  "language_info": {
   "codemirror_mode": {
    "name": "ipython",
    "version": 3
   },
   "file_extension": ".py",
   "mimetype": "text/x-python",
   "name": "python",
   "nbconvert_exporter": "python",
   "pygments_lexer": "ipython3",
   "version": "3.7.3"
  }
 },
 "nbformat": 4,
 "nbformat_minor": 2
}
